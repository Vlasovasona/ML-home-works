{
  "nbformat": 4,
  "nbformat_minor": 0,
  "metadata": {
    "colab": {
      "provenance": []
    },
    "kernelspec": {
      "name": "python3",
      "display_name": "Python 3"
    },
    "language_info": {
      "name": "python"
    }
  },
  "cells": [
    {
      "cell_type": "markdown",
      "source": [
        "**Задание 1**\n",
        "\n",
        "Напишите функцию, возвращающую округленную взвешенную сумму оценок по данным оценкам и весам. Можете посчитать свою оценку за курс :) В нашем случае вес экзамена равен 0.3, вес домашек - 0.4, вес контрольной - 0.2, вес самостоятельных - 0.1. Например, если за экзамен у вас 7, за домашки 10, за контрольную 8, а за самостоятельные 6, то вы получите отличную оценку 8!\n",
        "\n",
        "Обратите внимание, что на вход приходит всегда двумерный массив. В нем в каждой строке - окенки одного конкретного студента. От вас требуется вернуть итоговую оценку для всех студентов в массиве."
      ],
      "metadata": {
        "id": "vLVtOFgYl8Mu"
      }
    },
    {
      "cell_type": "code",
      "execution_count": null,
      "metadata": {
        "id": "qMlkwgqtlKgr"
      },
      "outputs": [],
      "source": [
        "import numpy as np"
      ]
    },
    {
      "cell_type": "code",
      "source": [
        "def result_mark(weights: np.array, marks: np.array) -> int:\n",
        "    result = np.sum((weights * marks), axis=1)\n",
        "    round = np.round(result).astype(int)\n",
        "    return round"
      ],
      "metadata": {
        "id": "FChoWZ0PlXPo"
      },
      "execution_count": null,
      "outputs": []
    },
    {
      "cell_type": "code",
      "source": [
        "weights = np.array([0.3, 0.4, 0.2, 0.1])\n",
        "marks = np.array([[7, 10, 8, 6], [6, 9, 7, 6]])\n",
        "assert np.allclose(result_mark(weights, marks), np.array([8, 7]))"
      ],
      "metadata": {
        "id": "KbXjJFCalYGC"
      },
      "execution_count": null,
      "outputs": []
    },
    {
      "cell_type": "code",
      "source": [
        "weights = np.array([0.3, 0.4, 0.2, 0.1])\n",
        "marks = np.array([[7, 0, 8, 6]])\n",
        "\n",
        "assert np.allclose(result_mark(weights, marks), np.array([4]))"
      ],
      "metadata": {
        "id": "LLm9xlUWlYS3"
      },
      "execution_count": null,
      "outputs": []
    },
    {
      "cell_type": "markdown",
      "source": [
        "**Задание 2**\n",
        "\n",
        "Напишите функцию, которая каждое четное число в массиве заменяет на его квадрат (вторую степень), а нечетное - на его синус. Округлите все значения в итоговом массиве до двух знаков после запятой."
      ],
      "metadata": {
        "id": "keZYg04Wli-v"
      }
    },
    {
      "cell_type": "code",
      "source": [
        "def change_array(array: np.array) -> np.array:\n",
        "    array = array.astype(np.float64)\n",
        "    mask = (np.abs(array) % 2 == 0)\n",
        "    array[mask] = np.square(array[mask])\n",
        "    array[~mask] = np.sin(array[~mask])\n",
        "\n",
        "    return np.round(array, 2)"
      ],
      "metadata": {
        "id": "qxyt0YQ9lYaq"
      },
      "execution_count": null,
      "outputs": []
    },
    {
      "cell_type": "code",
      "source": [
        "array = np.array([2, 5, 1, 0, -6, 22, 213431])\n",
        "\n",
        "assert np.allclose(change_array(array), np.array([4.0, -0.96, 0.84, 0.0, 36.0, 484.0, -0.58]))"
      ],
      "metadata": {
        "id": "tA0u4Oq6lYgK"
      },
      "execution_count": null,
      "outputs": []
    },
    {
      "cell_type": "code",
      "source": [
        "array = np.array([3, 12, 15, -97, 6])\n",
        "\n",
        "assert np.allclose(change_array(array), np.array([0.14, 144.0, 0.65, -0.38, 36.0]))"
      ],
      "metadata": {
        "id": "quJWXSrXlYkq"
      },
      "execution_count": null,
      "outputs": []
    },
    {
      "cell_type": "markdown",
      "source": [
        "**Задание 3**\n",
        "\n",
        "Напишите функцию, которая вычисляет разность каждого элемента с предыдущим (для самого первого считайте, что его разница с \"предыдущим\" нулевая) в виде нового массива и возвращает вектор, в котором каждый новый элемент - сумма всех предыдущих из полученного нового массива."
      ],
      "metadata": {
        "id": "NXmnDTYSlneC"
      }
    },
    {
      "cell_type": "code",
      "source": [
        "def cumulative_sum_of_differences(array: np.array) -> np.array:\n",
        "    array = np.array(array)\n",
        "    differences = np.diff(array, prepend=0)\n",
        "    differences[0] = 0\n",
        "    res = np.cumsum(differences)\n",
        "    return res"
      ],
      "metadata": {
        "collapsed": true,
        "id": "Nb7txw_HloZV"
      },
      "execution_count": null,
      "outputs": []
    },
    {
      "cell_type": "code",
      "source": [
        "array = np.array([3, 6, 2, 8])\n",
        "\n",
        "assert np.allclose(cumulative_sum_of_differences(array), np.array([0, 3, -1, 5]))"
      ],
      "metadata": {
        "id": "lw8oXGYGlrun"
      },
      "execution_count": null,
      "outputs": []
    },
    {
      "cell_type": "code",
      "source": [
        "array = np.array([5, 1])\n",
        "\n",
        "assert np.allclose(cumulative_sum_of_differences(array), np.array([0, -4]))"
      ],
      "metadata": {
        "id": "bmnUFLxPlx1S"
      },
      "execution_count": null,
      "outputs": []
    },
    {
      "cell_type": "markdown",
      "source": [
        "Задание 4\n",
        "\n",
        "Напишите функцию, которая транспонирует двумерный массив, затем делает из него одномерный (reshape), переводит все элементы массива в int8 и выводит его отсортированным по убыванию."
      ],
      "metadata": {
        "id": "YW-bhcyimDPm"
      }
    },
    {
      "cell_type": "code",
      "source": [
        "def flatten_and_sort_transposed(array: np.array) -> np.array:\n",
        "    array = (array.T).reshape(-1)\n",
        "    array = array.astype(np.int8)\n",
        "    array = np.sort(array)[::-1]\n",
        "    return array"
      ],
      "metadata": {
        "id": "Md-4Lr2qmCF3"
      },
      "execution_count": null,
      "outputs": []
    },
    {
      "cell_type": "code",
      "source": [
        "array = np.array([[256, -10], [-381, 112]])\n",
        "\n",
        "assert np.allclose(flatten_and_sort_transposed(array), np.array([112, 0, -10, -125]))"
      ],
      "metadata": {
        "id": "YCVXjvqfmKUh"
      },
      "execution_count": null,
      "outputs": []
    },
    {
      "cell_type": "code",
      "source": [
        "array = np.array([[9, 8, 7], [3, 6, 129]])\n",
        "\n",
        "assert np.allclose(flatten_and_sort_transposed(array), np.array([ 9, 8, 7, 6, 3, -127]))"
      ],
      "metadata": {
        "id": "Bo3K-n_gmNyb"
      },
      "execution_count": null,
      "outputs": []
    },
    {
      "cell_type": "markdown",
      "source": [
        "Задание 5\n",
        "\n",
        "Напишите функцию, которая удаляет из массива все строки, среднее значение в которых больше общего среднего значения по всему массиву."
      ],
      "metadata": {
        "id": "C1TxAq1JmRIC"
      }
    },
    {
      "cell_type": "code",
      "source": [
        "def filter_rows_by_mean(array: np.array) -> np.array:\n",
        "    y = np.array([] , dtype=float)\n",
        "    middle = np.mean(array)\n",
        "    result = array[np.mean(array, axis=1) <= middle]\n",
        "    return result"
      ],
      "metadata": {
        "id": "epqw1GjxmPhM"
      },
      "execution_count": null,
      "outputs": []
    },
    {
      "cell_type": "code",
      "source": [
        "array = np.array([[1, 2, 3], [7, 8, 9], [4, 5, 6]])\n",
        "res = filter_rows_by_mean(array)\n",
        "\n",
        "assert res.ndim == 2\n",
        "assert np.allclose(res, np.array([[1, 2, 3], [4, 5, 6]]))"
      ],
      "metadata": {
        "id": "MPX64VgmmWOM"
      },
      "execution_count": null,
      "outputs": []
    },
    {
      "cell_type": "code",
      "source": [
        "array = np.array([[10, 20], [5, 5], [15, 15]])\n",
        "res = filter_rows_by_mean(array)\n",
        "\n",
        "assert res.ndim == 2\n",
        "assert np.allclose(res, np.array([[5, 5]]))"
      ],
      "metadata": {
        "id": "BZyWPpxqmYMH"
      },
      "execution_count": null,
      "outputs": []
    },
    {
      "cell_type": "markdown",
      "source": [
        "**Задание 6**\n",
        "\n",
        "Напишите функцию, которая принимает на вход число - размер массива (квадратная матрица), который заполнен по принипу щахматной доски нулями и единицами. Первой (слева сверху) идет всегда единица. Напомним, что на шахматной доске белые и черные ячейки чередуются (в данном задании чередуются нули и единицы)."
      ],
      "metadata": {
        "id": "B8ZBG1mQmdo-"
      }
    },
    {
      "cell_type": "code",
      "source": [
        "def create_checkerboard(number: int) -> np.array:\n",
        "    arr = np.zeros((number, number))\n",
        "    arr[1::2, 1::2] = 1\n",
        "    arr[::2, ::2] = 1\n",
        "    return arr"
      ],
      "metadata": {
        "id": "50JJCfdomeF-"
      },
      "execution_count": null,
      "outputs": []
    },
    {
      "cell_type": "code",
      "source": [
        "number = 3\n",
        "\n",
        "assert np.allclose(create_checkerboard(number) - np.array([[1, 0, 1], [0, 1, 0], [1, 0, 1]]), np.zeros((number, number)))"
      ],
      "metadata": {
        "id": "M2kGxeLmmeac"
      },
      "execution_count": null,
      "outputs": []
    },
    {
      "cell_type": "code",
      "source": [
        "number = 4\n",
        "\n",
        "assert np.allclose(create_checkerboard(number) - np.array([[1, 0, 1, 0], [0, 1, 0, 1], [1, 0, 1, 0], [0, 1, 0, 1]]), np.zeros((number, number)))"
      ],
      "metadata": {
        "id": "2It7XgqomlrP"
      },
      "execution_count": null,
      "outputs": []
    },
    {
      "cell_type": "markdown",
      "source": [
        "**Задание 7**\n",
        "\n",
        "Напишите функцию, которая соритрует строки двумерного массива по значению в первом (начиная с нуля) столбце (по возрастанию)."
      ],
      "metadata": {
        "id": "OJz1yTEqmql9"
      }
    },
    {
      "cell_type": "code",
      "source": [
        "def sort_rows_by_second_column(array: np.array) -> np.array:\n",
        "    array = array[np.argsort(array[:, 1])]\n",
        "    return array"
      ],
      "metadata": {
        "id": "MjUUa0mtmn1T"
      },
      "execution_count": null,
      "outputs": []
    },
    {
      "cell_type": "code",
      "source": [
        "array = np.array([[10, 2], [3, 5], [7, 1]])\n",
        "\n",
        "assert np.allclose(sort_rows_by_second_column(array), np.array([[7, 1], [10, 2], [3, 5]]))"
      ],
      "metadata": {
        "id": "N4lHRWQYmuuF"
      },
      "execution_count": null,
      "outputs": []
    },
    {
      "cell_type": "code",
      "source": [
        "array = np.array([[5, 8, 1], [10, 3, 9], [2, 7, 0], [6, -1, 5]])\n",
        "\n",
        "assert np.allclose(sort_rows_by_second_column(array), np.array([[6, -1, 5], [10, 3, 9], [2, 7, 0], [5, 8, 1]]))"
      ],
      "metadata": {
        "id": "fAB4opORmwsn"
      },
      "execution_count": null,
      "outputs": []
    },
    {
      "cell_type": "markdown",
      "source": [
        "**Задание 8**\n",
        "\n",
        "Напишите функцию, которая вычисляет сумму элементов побочной диагонали квадратной матрицы."
      ],
      "metadata": {
        "id": "ZNdBjyWQmzkf"
      }
    },
    {
      "cell_type": "code",
      "source": [
        "def sum_counterdiagonal_elements(array: np.array) -> np.array:\n",
        "    res = array[::-1].trace()\n",
        "    return res"
      ],
      "metadata": {
        "id": "m99YOCpLmybI"
      },
      "execution_count": null,
      "outputs": []
    },
    {
      "cell_type": "code",
      "source": [
        "array = np.array([[5, 8, 1], [10, 3, 9], [2, 7, 0]])\n",
        "\n",
        "assert sum_counterdiagonal_elements(array) == 6"
      ],
      "metadata": {
        "id": "22efwZy-m4Go"
      },
      "execution_count": null,
      "outputs": []
    },
    {
      "cell_type": "code",
      "source": [
        "array = np.array([[-4, -1, -1, 7], [6, -10, 5, -9], [3, -8, 6, 8], [-1, -6, 7, -10]])\n",
        "\n",
        "assert sum_counterdiagonal_elements(array) == 3"
      ],
      "metadata": {
        "id": "KbniK0zxm5rz"
      },
      "execution_count": null,
      "outputs": []
    },
    {
      "cell_type": "markdown",
      "source": [
        "**Задание 9**\n",
        "\n",
        "Напишите функцию, которая принимает на вход три числа (начало отрезка, конец отрезка, количество точек на отрезке). Данная функция генерирует указанное количество точек равномерно на отрезке с указанными концами (точки равноудалены друг от друга). Затем функция генерирует другой массив - натуральный логарифм от всех точек отрезка плюс единица (ln(point+1)). Возвращает функция массив пар точек вида (точка на отрезке, ее логарифм). Каждое значение в возвращаемом массиве должно быть округлено до двух знаков после запятой."
      ],
      "metadata": {
        "id": "g6lFiiARm8y2"
      }
    },
    {
      "cell_type": "code",
      "source": [
        "def generate_logarithm_points(start, end, count: int) -> np.array:\n",
        "    line = np.linspace(start, end, num=count)\n",
        "    l = np.log(line+1)\n",
        "    res = np.vstack((np.round(line, 2), np.round(l, 2))).T\n",
        "    return res"
      ],
      "metadata": {
        "id": "40SZfaO8m8cf"
      },
      "execution_count": null,
      "outputs": []
    },
    {
      "cell_type": "code",
      "source": [
        "start = 1\n",
        "end = 10\n",
        "count = 5\n",
        "\n",
        "assert np.allclose(generate_logarithm_points(start, end, count), np.array([[1., 0.69], [3.25, 1.45], [5.5 , 1.87], [7.75, 2.17], [10., 2.4]]))"
      ],
      "metadata": {
        "id": "LBY1XBkOm7cK"
      },
      "execution_count": null,
      "outputs": []
    },
    {
      "cell_type": "code",
      "source": [
        "start = 5\n",
        "end = 12\n",
        "count = 4\n",
        "\n",
        "assert np.allclose(generate_logarithm_points(start, end, count), np.array([[5., 1.79], [7.33, 2.12], [9.67, 2.37], [12., 2.56]]))"
      ],
      "metadata": {
        "id": "tBq2zBaonLyT"
      },
      "execution_count": null,
      "outputs": []
    },
    {
      "cell_type": "markdown",
      "source": [
        "**Задание 10**\n",
        "\n",
        "Напишите функцию, которая нормализует входной двумерный массив.\n",
        "\n",
        "Под нормализацией в данном задании подразумевается перевод всех чисел массива на отрезок\n",
        ". Очевидно, недостаточно просто вычесть/прибавить лишнее, чтобы остались числа на нужном отрезке. Суть нормализации массива в том, чтобы не потерять информацию о его элементах и их соотношениях. Потому, необходимо сохранить пропорции расстояний между каждым числом - спроецировать все точки на указанный отрезок. Такой метод масштабирования массива называется MinMaxScaling. Само название дает подсказку, как нужно решить задачу. Дробные числа округляйте до двух знаков после запятой.\n",
        "\n",
        "*Будьте осторожны с делением...*"
      ],
      "metadata": {
        "id": "eFvgh67nnPQt"
      }
    },
    {
      "cell_type": "code",
      "source": [
        "def min_max_scale(array: np.array) -> np.array:\n",
        "    mi, ma = np.min(array), np.max(array)\n",
        "    round = np.round((array - mi) / (ma - mi), 2)\n",
        "    return round"
      ],
      "metadata": {
        "id": "GIp1ynxKnVP_"
      },
      "execution_count": null,
      "outputs": []
    },
    {
      "cell_type": "code",
      "source": [
        "array = np.array([[1, 2, 3], [4, 5, 6], [7, 8, 9]])\n",
        "\n",
        "assert np.allclose(min_max_scale(array), np.array([[0. , 0.12, 0.25], [0.38, 0.5 , 0.62], [0.75, 0.88, 1.]]))"
      ],
      "metadata": {
        "id": "X_NO8kMxnW0k"
      },
      "execution_count": null,
      "outputs": []
    },
    {
      "cell_type": "code",
      "source": [
        "array = np.array([[0, 1, 2], [3, 4, 5]])\n",
        "\n",
        "assert np.allclose(min_max_scale(array), np.array([[0., 0.2, 0.4], [0.6, 0.8, 1.]]))"
      ],
      "metadata": {
        "id": "h5GDtdianYeV"
      },
      "execution_count": null,
      "outputs": []
    }
  ]
}